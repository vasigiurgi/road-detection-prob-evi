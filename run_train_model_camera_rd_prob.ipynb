{
 "cells": [
  {
   "cell_type": "code",
   "execution_count": 1,
   "id": "96ac6cea-3748-4035-821d-7150fc5c75e1",
   "metadata": {},
   "outputs": [],
   "source": [
    "# This script trains the model model_camera_rd_prob\n",
    "# Augmentation: Individual images are randomly augmented, not at epoch end\n",
    "\n",
    "import sys\n",
    "import numpy as np\n",
    "import os\n",
    "from pathlib import Path\n",
    "base_path = Path.cwd() \n",
    "# Libs path\n",
    "sys.path.insert(0, str(base_path / 'model_arch' / 'libs'))\n",
    "from tensorflow import keras\n",
    "from datetime import datetime, timedelta\n",
    "from utils import train_val_split, split_check, write_path, kittiroad_camera\n",
    "from matplotlib import pyplot as plt\n",
    "from tensorflow.keras.models import model_from_json\n",
    "####################################################################################\n",
    "from ds_layer_p2p_RT import DS1, DS1_activate, DS2, DS2_omega, DS3_Dempster, DS3_normalize, SelectSingleton # Ensure your custom layer module is imported\n",
    "\n",
    "\n",
    "# cluster directory\n",
    "input_dir_rgb = str(base_path / 'image_2')\n",
    "input_dir_velo= str(base_path / 'all_channel')\n",
    "target_dir = str(base_path / 'gt_road')\n",
    "out_dir= str(base_path / 'output')\n",
    "model_dir= str(base_path / 'model_arch' / 'model_camera_rd_prob')\n",
    "weights = str(base_path / 'output' / '400epochs')"
   ]
  },
  {
   "cell_type": "code",
   "execution_count": 2,
   "id": "7b787b90-fd0f-4979-aa60-663f02c70dba",
   "metadata": {},
   "outputs": [
    {
     "name": "stderr",
     "output_type": "stream",
     "text": [
      "2024-07-05 09:57:29.210461: I tensorflow/stream_executor/cuda/cuda_gpu_executor.cc:936] successful NUMA node read from SysFS had negative value (-1), but there must be at least one NUMA node, so returning NUMA node zero\n",
      "2024-07-05 09:57:29.213959: I tensorflow/stream_executor/cuda/cuda_gpu_executor.cc:936] successful NUMA node read from SysFS had negative value (-1), but there must be at least one NUMA node, so returning NUMA node zero\n",
      "2024-07-05 09:57:29.214065: I tensorflow/stream_executor/cuda/cuda_gpu_executor.cc:936] successful NUMA node read from SysFS had negative value (-1), but there must be at least one NUMA node, so returning NUMA node zero\n",
      "2024-07-05 09:57:29.214321: I tensorflow/core/platform/cpu_feature_guard.cc:151] This TensorFlow binary is optimized with oneAPI Deep Neural Network Library (oneDNN) to use the following CPU instructions in performance-critical operations:  AVX2 AVX512F FMA\n",
      "To enable them in other operations, rebuild TensorFlow with the appropriate compiler flags.\n",
      "2024-07-05 09:57:29.215805: I tensorflow/stream_executor/cuda/cuda_gpu_executor.cc:936] successful NUMA node read from SysFS had negative value (-1), but there must be at least one NUMA node, so returning NUMA node zero\n",
      "2024-07-05 09:57:29.215916: I tensorflow/stream_executor/cuda/cuda_gpu_executor.cc:936] successful NUMA node read from SysFS had negative value (-1), but there must be at least one NUMA node, so returning NUMA node zero\n",
      "2024-07-05 09:57:29.216005: I tensorflow/stream_executor/cuda/cuda_gpu_executor.cc:936] successful NUMA node read from SysFS had negative value (-1), but there must be at least one NUMA node, so returning NUMA node zero\n",
      "2024-07-05 09:57:29.533028: I tensorflow/stream_executor/cuda/cuda_gpu_executor.cc:936] successful NUMA node read from SysFS had negative value (-1), but there must be at least one NUMA node, so returning NUMA node zero\n",
      "2024-07-05 09:57:29.533160: I tensorflow/stream_executor/cuda/cuda_gpu_executor.cc:936] successful NUMA node read from SysFS had negative value (-1), but there must be at least one NUMA node, so returning NUMA node zero\n",
      "2024-07-05 09:57:29.533266: I tensorflow/stream_executor/cuda/cuda_gpu_executor.cc:936] successful NUMA node read from SysFS had negative value (-1), but there must be at least one NUMA node, so returning NUMA node zero\n",
      "2024-07-05 09:57:29.533356: I tensorflow/core/common_runtime/gpu/gpu_device.cc:1525] Created device /job:localhost/replica:0/task:0/device:GPU:0 with 21607 MB memory:  -> device: 0, name: NVIDIA GeForce RTX 4090, pci bus id: 0000:01:00.0, compute capability: 8.9\n"
     ]
    },
    {
     "data": {
      "text/plain": [
       "<tensorflow.python.training.tracking.util.CheckpointLoadStatus at 0x7f1980042d90>"
      ]
     },
     "execution_count": 2,
     "metadata": {},
     "output_type": "execute_result"
    }
   ],
   "source": [
    "img_size = (384,1248)\n",
    "batch_size = 1\n",
    "\n",
    "# Load the JSON file\n",
    "path_f = os.path.join(model_dir, \"model_camera_rd_prob.json\")\n",
    "with open(path_f, \"r\") as json_file:\n",
    "    model_json = json_file.read()\n",
    "\n",
    "# Define the custom objects in a dictionary\n",
    "custom_objects = {\n",
    "    'DS1': DS1,\n",
    "    'DS1_activate': DS1_activate,\n",
    "    'DS2': DS2,\n",
    "    'DS2_omega': DS2_omega,\n",
    "    'DS3_Dempster': DS3_Dempster,\n",
    "    'DS3_normalize':DS3_normalize, \n",
    "    'SelectSingleton':SelectSingleton}\n",
    "\n",
    "# Reconstruct the model from JSON\n",
    "model = model_from_json(model_json, custom_objects=custom_objects)\n",
    "model.load_weights(os.path.join(weights,\"checkpoint_cross_fusion\"))\n",
    "\n",
    "# # Load weights into the new model\n",
    "# model.load_weights(os.path.join(model_dir, \"model_camera_evi_ss_RT_weights.h5\"))\n",
    "#model.summary()"
   ]
  },
  {
   "cell_type": "code",
   "execution_count": 3,
   "id": "5cbbdde3-3809-4c72-904e-fa2c08764dc8",
   "metadata": {
    "tags": []
   },
   "outputs": [
    {
     "data": {
      "text/plain": [
       "0"
      ]
     },
     "execution_count": 3,
     "metadata": {},
     "output_type": "execute_result"
    }
   ],
   "source": [
    "#Prepare paths of input images and target segmentation masks   \n",
    "data_split = train_val_split(input_dir_rgb, target_dir)\n",
    "train_input_img_paths_rgb = data_split[\"train_cam_1\"]  # path of camera images, training\n",
    "train_target_img_paths = data_split[\"train_target_1\"]     # path of target image, training\n",
    "val_input_img_paths_rgb = data_split[\"val_cam_1\"]    # path of camera images, validation\n",
    "val_target_img_paths = data_split[\"val_target_1\"]       # path of taget image, validation \n",
    "\n",
    "# prepare split matching\n",
    "train_cam= split_check(train_input_img_paths_rgb)\n",
    "train_target= split_check(train_target_img_paths)\n",
    "val_cam= split_check(val_input_img_paths_rgb)\n",
    "val_target= split_check(val_target_img_paths)\n",
    "\n",
    "# write split paths to a text file\n",
    "write_path(out_dir, train_input_img_paths_rgb, 'train_input_img_paths_rgb.txt')\n",
    "write_path(out_dir, train_target_img_paths, 'train_target_img_paths.txt')\n",
    "\n",
    "write_path(out_dir, val_input_img_paths_rgb, 'val_input_img_paths_rgb.txt')\n",
    "write_path(out_dir, val_target_img_paths, 'val_target_img_paths.txt')"
   ]
  },
  {
   "cell_type": "code",
   "execution_count": 4,
   "id": "ba19b73e-d8d4-4f1b-b1b9-1f637c0f3bf8",
   "metadata": {},
   "outputs": [
    {
     "name": "stdout",
     "output_type": "stream",
     "text": [
      "(1, 384, 1248, 2)\n",
      "(384, 1248, 2)\n"
     ]
    },
    {
     "data": {
      "text/plain": [
       "<matplotlib.image.AxesImage at 0x7f1970080090>"
      ]
     },
     "execution_count": 4,
     "metadata": {},
     "output_type": "execute_result"
    },
    {
     "data": {
      "image/png": "[encoded data removed]",
      "text/plain": [
       "<Figure size 640x480 with 1 Axes>"
      ]
     },
     "metadata": {},
     "output_type": "display_data"
    }
   ],
   "source": [
    "# Instantiate data Sequences for each split\n",
    "train_gen = kittiroad_camera(batch_size, img_size, train_input_img_paths_rgb, train_target_img_paths)\n",
    "val_gen = kittiroad_camera(batch_size, img_size, val_input_img_paths_rgb, val_target_img_paths,val=True)\n",
    "\n",
    "# Index of an image for a check, can change up to max nr of images\n",
    "index_of_image = 3 \n",
    "\n",
    "# Access image from train or val_\n",
    "image_batch = train_gen.__getitem__(index_of_image)\n",
    "\n",
    "# Checking some batch images\n",
    "first_image = image_batch[1]\n",
    "print(first_image.shape)\n",
    "tst = first_image[0]\n",
    "print(tst.shape)\n",
    "plt.figure()\n",
    "plt.imshow(tst[:,:,0])"
   ]
  },
  {
   "cell_type": "code",
   "execution_count": 5,
   "id": "30843e52-4f1d-4442-9e23-2b04d0c39360",
   "metadata": {},
   "outputs": [
    {
     "name": "stdout",
     "output_type": "stream",
     "text": [
      "Epoch 1/10\n"
     ]
    },
    {
     "name": "stderr",
     "output_type": "stream",
     "text": [
      "2024-07-05 09:57:37.012464: I tensorflow/stream_executor/cuda/cuda_dnn.cc:368] Loaded cuDNN version 8101\n",
      "2024-07-05 09:57:37.424799: I tensorflow/core/platform/default/subprocess.cc:304] Start cannot spawn child process: No such file or directory\n",
      "2024-07-05 09:57:37.425482: I tensorflow/core/platform/default/subprocess.cc:304] Start cannot spawn child process: No such file or directory\n",
      "2024-07-05 09:57:37.425492: W tensorflow/stream_executor/gpu/asm_compiler.cc:80] Couldn't get ptxas version string: INTERNAL: Couldn't invoke ptxas --version\n",
      "2024-07-05 09:57:37.426043: I tensorflow/core/platform/default/subprocess.cc:304] Start cannot spawn child process: No such file or directory\n",
      "2024-07-05 09:57:37.426081: W tensorflow/stream_executor/gpu/redzone_allocator.cc:314] INTERNAL: Failed to launch ptxas\n",
      "Relying on driver to perform ptx compilation. \n",
      "Modify $PATH to customize ptxas location.\n",
      "This message will be only logged once.\n"
     ]
    },
    {
     "name": "stdout",
     "output_type": "stream",
     "text": [
      "260/260 [==============================] - 15s 46ms/step - loss: 0.0271 - mse: 0.0077 - val_loss: 0.0267 - val_mse: 0.0073\n",
      "Epoch 2/10\n",
      "260/260 [==============================] - 12s 44ms/step - loss: 0.0273 - mse: 0.0079 - val_loss: 0.0267 - val_mse: 0.0073\n",
      "Epoch 3/10\n",
      "260/260 [==============================] - 12s 45ms/step - loss: 0.0275 - mse: 0.0081 - val_loss: 0.0267 - val_mse: 0.0073\n",
      "Epoch 4/10\n",
      "260/260 [==============================] - 12s 44ms/step - loss: 0.0273 - mse: 0.0079 - val_loss: 0.0267 - val_mse: 0.0073\n",
      "Epoch 5/10\n",
      "260/260 [==============================] - 12s 45ms/step - loss: 0.0273 - mse: 0.0079 - val_loss: 0.0267 - val_mse: 0.0073\n",
      "Epoch 6/10\n",
      "260/260 [==============================] - 11s 44ms/step - loss: 0.0271 - mse: 0.0077 - val_loss: 0.0267 - val_mse: 0.0073\n",
      "Epoch 7/10\n",
      "260/260 [==============================] - 11s 44ms/step - loss: 0.0273 - mse: 0.0079 - val_loss: 0.0267 - val_mse: 0.0073\n",
      "Epoch 8/10\n",
      "260/260 [==============================] - 12s 44ms/step - loss: 0.0270 - mse: 0.0077 - val_loss: 0.0267 - val_mse: 0.0073\n",
      "Epoch 9/10\n",
      "260/260 [==============================] - 12s 45ms/step - loss: 0.0270 - mse: 0.0076 - val_loss: 0.0267 - val_mse: 0.0073\n",
      "Epoch 10/10\n",
      "260/260 [==============================] - 12s 45ms/step - loss: 0.0272 - mse: 0.0079 - val_loss: 0.0267 - val_mse: 0.0073\n"
     ]
    }
   ],
   "source": [
    "from keras.callbacks import ReduceLROnPlateau\n",
    "from keras.callbacks import EarlyStopping\n",
    "\n",
    "starter_learning_rate=0.0001\n",
    "end_learning_rate=0\n",
    "# Train the model\n",
    "epochs = 10\n",
    "decay_steps=261*epochs # 261(frames)x50(epoch) \n",
    "lr_schedule=keras.optimizers.schedules.PolynomialDecay(starter_learning_rate, decay_steps,end_learning_rate,power=0.9)\n",
    "\n",
    "# Optimizer\n",
    "opt=keras.optimizers.Adam(learning_rate=lr_schedule)\n",
    "\n",
    "# Compile\n",
    "model.compile(optimizer=opt, loss= keras.losses.MeanSquaredError(), metrics= [\"mse\"])\n",
    "\n",
    "# Modelcheckpoint\n",
    "model_checkpoint_callback = keras.callbacks.ModelCheckpoint(\n",
    "                            filepath=os.path.join(out_dir, 'model_camera_rd_prob_weights'),\n",
    "                            save_weights_only=True,\n",
    "                            monitor='val_loss', \n",
    "                            mode='min',\n",
    "                            save_best_only=True)\n",
    "\n",
    "\n",
    "\n",
    "st_time= datetime.now()\n",
    "history= model.fit(train_gen, epochs=epochs, validation_data=val_gen, callbacks=[model_checkpoint_callback])\n",
    "end_time= datetime.now()\n",
    "\n",
    "\n",
    "# Save training miscellaneous results\n",
    "elapsed_total_sec= (end_time - st_time).total_seconds()\n",
    "conversion = timedelta(seconds= elapsed_total_sec)\n",
    "\n",
    "with open(os.path.join(out_dir, 'time_log.txt'), 'w') as f:\n",
    "    f.write('%s\\n' %'Training time in H:M:S')\n",
    "    f.write( str(conversion))\n",
    "    f.close()\n",
    "\n",
    "np.savez_compressed(os.path.join(out_dir,'history.npz'), loss= history.history['loss'], \n",
    "                val_loss= history.history['val_loss'], \n",
    "               accuracy= history.history['mse'],\n",
    "               val_accuracy= history.history['val_mse'] )\n",
    "\n",
    "# Save model architecture to JSON after training\n",
    "model_json = model.to_json()\n",
    "with open(os.path.join(out_dir, 'model_camera_rd_prob.json'), \"w\") as json_file:\n",
    "    json_file.write(model_json)"
   ]
  },
  {
   "cell_type": "code",
   "execution_count": 6,
   "id": "cb0b9078-36ae-4f60-9161-7e2d9912022d",
   "metadata": {},
   "outputs": [],
   "source": [
    "model.save_weights(os.path.join(out_dir, 'model_camera_rd_prob_weights.h5'))"
   ]
  },
  {
   "cell_type": "code",
   "execution_count": null,
   "id": "0267db2d-cb67-496b-a11d-c62c39f56505",
   "metadata": {},
   "outputs": [],
   "source": []
  }
 ],
 "metadata": {
  "kernelspec": {
   "display_name": "Python 3 (ipykernel)",
   "language": "python",
   "name": "python3"
  },
  "language_info": {
   "codemirror_mode": {
    "name": "ipython",
    "version": 3
   },
   "file_extension": ".py",
   "mimetype": "text/x-python",
   "name": "python",
   "nbconvert_exporter": "python",
   "pygments_lexer": "ipython3",
   "version": "3.7.16"
  }
 },
 "nbformat": 4,
 "nbformat_minor": 5
}
