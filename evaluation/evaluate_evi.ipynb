{
 "cells": [
  {
   "cell_type": "code",
   "execution_count": 1,
   "id": "minimal-triple",
   "metadata": {},
   "outputs": [],
   "source": [
    "########## author: vasigiurgi #############\n",
    "\n",
    "\n",
    "import os\n",
    "import sys\n",
    "from ev_utils import read_path, zero_unpadding, clu_to_local, mainEval\n",
    "from utils_evaluation import split_check, kittiroad_camera\n",
    "from pathlib import Path\n",
    "base_path = Path.cwd().parent \n",
    "# Libs path\n",
    "sys.path.insert(0, str(base_path / 'model_arch' / 'libs'))\n",
    "import numpy as np\n",
    "import cv2\n",
    "from tensorflow import keras\n",
    "from ds_layer_p2p_RT import DS1, DS1_activate, DS2, DS2_omega, DS3_Dempster, DS3_normalize, SelectSingleton, BeliefIntervalDistance, BeliefPlausibility, BeliefPlausibilityFocused # Ensure your custom layer module is imported\n",
    "import tensorflow as tf\n"
   ]
  },
  {
   "cell_type": "code",
   "execution_count": 2,
   "id": "ethical-participation",
   "metadata": {},
   "outputs": [
    {
     "name": "stderr",
     "output_type": "stream",
     "text": [
      "2024-07-05 12:08:24.733590: I tensorflow/stream_executor/cuda/cuda_gpu_executor.cc:936] successful NUMA node read from SysFS had negative value (-1), but there must be at least one NUMA node, so returning NUMA node zero\n",
      "2024-07-05 12:08:24.737976: I tensorflow/stream_executor/cuda/cuda_gpu_executor.cc:936] successful NUMA node read from SysFS had negative value (-1), but there must be at least one NUMA node, so returning NUMA node zero\n",
      "2024-07-05 12:08:24.738092: I tensorflow/stream_executor/cuda/cuda_gpu_executor.cc:936] successful NUMA node read from SysFS had negative value (-1), but there must be at least one NUMA node, so returning NUMA node zero\n",
      "2024-07-05 12:08:24.886225: I tensorflow/core/platform/cpu_feature_guard.cc:151] This TensorFlow binary is optimized with oneAPI Deep Neural Network Library (oneDNN) to use the following CPU instructions in performance-critical operations:  AVX2 AVX512F FMA\n",
      "To enable them in other operations, rebuild TensorFlow with the appropriate compiler flags.\n",
      "2024-07-05 12:08:24.887694: I tensorflow/stream_executor/cuda/cuda_gpu_executor.cc:936] successful NUMA node read from SysFS had negative value (-1), but there must be at least one NUMA node, so returning NUMA node zero\n",
      "2024-07-05 12:08:24.887868: I tensorflow/stream_executor/cuda/cuda_gpu_executor.cc:936] successful NUMA node read from SysFS had negative value (-1), but there must be at least one NUMA node, so returning NUMA node zero\n",
      "2024-07-05 12:08:24.887979: I tensorflow/stream_executor/cuda/cuda_gpu_executor.cc:936] successful NUMA node read from SysFS had negative value (-1), but there must be at least one NUMA node, so returning NUMA node zero\n"
     ]
    },
    {
     "name": "stdout",
     "output_type": "stream",
     "text": [
      "Device mapping:\n",
      "/job:localhost/replica:0/task:0/device:GPU:0 -> device: 0, name: NVIDIA GeForce RTX 4090, pci bus id: 0000:01:00.0, compute capability: 8.9\n",
      "\n"
     ]
    },
    {
     "name": "stderr",
     "output_type": "stream",
     "text": [
      "2024-07-05 12:08:25.176624: I tensorflow/stream_executor/cuda/cuda_gpu_executor.cc:936] successful NUMA node read from SysFS had negative value (-1), but there must be at least one NUMA node, so returning NUMA node zero\n",
      "2024-07-05 12:08:25.176757: I tensorflow/stream_executor/cuda/cuda_gpu_executor.cc:936] successful NUMA node read from SysFS had negative value (-1), but there must be at least one NUMA node, so returning NUMA node zero\n",
      "2024-07-05 12:08:25.176856: I tensorflow/stream_executor/cuda/cuda_gpu_executor.cc:936] successful NUMA node read from SysFS had negative value (-1), but there must be at least one NUMA node, so returning NUMA node zero\n",
      "2024-07-05 12:08:25.176955: I tensorflow/core/common_runtime/gpu/gpu_device.cc:1525] Created device /job:localhost/replica:0/task:0/device:GPU:0 with 13620 MB memory:  -> device: 0, name: NVIDIA GeForce RTX 4090, pci bus id: 0000:01:00.0, compute capability: 8.9\n"
     ]
    }
   ],
   "source": [
    "\n",
    "# ===========================================\n",
    "# Required only on the local gpu rtx 2070 (may be due to some memory issue)\n",
    "\n",
    "physical_devices = tf.config.experimental.list_physical_devices('GPU')\n",
    "assert len(physical_devices) > 0, \"Not enough GPU hardware devices available\"\n",
    "config = tf.config.experimental.set_memory_growth(physical_devices[0], True)\n",
    "\n",
    "## Memory settings\n",
    "from tensorflow.compat.v1.keras.backend import set_session\n",
    "config = tf.compat.v1.ConfigProto()\n",
    "config.gpu_options.allow_growth = True # dynamically grow the memory used on the GPU\n",
    "config.log_device_placement = True # to log device placement (on which device the operation ran)\n",
    "sess = tf.compat.v1.Session(config=config)\n",
    "set_session(sess)\n",
    "## ---- end Memory setting ----\n",
    "#============================================\n"
   ]
  },
  {
   "cell_type": "code",
   "execution_count": 4,
   "id": "ongoing-payday",
   "metadata": {},
   "outputs": [
    {
     "name": "stderr",
     "output_type": "stream",
     "text": [
      "2024-07-05 12:09:02.236213: I tensorflow/stream_executor/cuda/cuda_dnn.cc:368] Loaded cuDNN version 8101\n",
      "2024-07-05 12:09:02.657642: I tensorflow/core/platform/default/subprocess.cc:304] Start cannot spawn child process: No such file or directory\n",
      "2024-07-05 12:09:02.658349: I tensorflow/core/platform/default/subprocess.cc:304] Start cannot spawn child process: No such file or directory\n",
      "2024-07-05 12:09:02.658364: W tensorflow/stream_executor/gpu/asm_compiler.cc:80] Couldn't get ptxas version string: INTERNAL: Couldn't invoke ptxas --version\n",
      "2024-07-05 12:09:02.658896: I tensorflow/core/platform/default/subprocess.cc:304] Start cannot spawn child process: No such file or directory\n",
      "2024-07-05 12:09:02.658941: W tensorflow/stream_executor/gpu/redzone_allocator.cc:314] INTERNAL: Failed to launch ptxas\n",
      "Relying on driver to perform ptx compilation. \n",
      "Modify $PATH to customize ptxas location.\n",
      "This message will be only logged once.\n"
     ]
    }
   ],
   "source": [
    "# cluster directory\n",
    "input_dir_rgb = str(base_path / 'image_2')\n",
    "target_dir = str(base_path / 'gt_road')\n",
    "model_dir= str(base_path / 'model_arch' / 'model_camera_rd_evi')\n",
    "file_dir= str(base_path / 'output')\n",
    "out_dir= str(base_path / 'evaluation' / 'prediction_mask_evi')\n",
    "\n",
    "def main():\n",
    "    \n",
    "    # List of validation split\n",
    "    val_input_img_paths_rgb= read_path(file_dir,'val_input_img_paths_rgb.txt')\n",
    "    val_target_img_paths=read_path(file_dir, 'val_target_img_paths.txt')\n",
    "    \n",
    "    # From cluster to local\n",
    "    for i in range(len(val_input_img_paths_rgb)):\n",
    "        val_input_img_paths_rgb[i]=clu_to_local(val_input_img_paths_rgb[i])\n",
    "        val_target_img_paths[i]= clu_to_local(val_target_img_paths[i])\n",
    "    \n",
    "    # Prepare split matching\n",
    "    val_cam= split_check(val_input_img_paths_rgb)\n",
    "    val_target= split_check(val_target_img_paths)\n",
    "        \n",
    "    # Instantiate data Sequences \n",
    "    batch_size=1\n",
    "    img_size = (384,1248)\n",
    "    val_input_gen= kittiroad_camera(batch_size, img_size, val_input_img_paths_rgb, val=True)\n",
    "    \n",
    "    # Load the model architecture from the JSON file\n",
    "    with open(os.path.join(model_dir, 'model_camera_rd_evi.json'), 'r') as json_file:\n",
    "        model_json = json_file.read()\n",
    "    custom_objects = {\n",
    "    'DS1': DS1,\n",
    "    'DS1_activate': DS1_activate,\n",
    "    'DS2': DS2,\n",
    "    'DS2_omega': DS2_omega,\n",
    "    'DS3_Dempster': DS3_Dempster,\n",
    "    'DS3_normalize':DS3_normalize, \n",
    "    'SelectSingleton':SelectSingleton,\n",
    "    'BeliefIntervalDistance':BeliefIntervalDistance,\n",
    "    'BeliefPlausibility':BeliefPlausibility,\n",
    "    'BeliefPlausibilityFocused':BeliefPlausibilityFocused}\n",
    "    model = keras.models.model_from_json(model_json, custom_objects)\n",
    "\n",
    "    # Load the saved weights into the model\n",
    "    model.load_weights(os.path.join(file_dir, 'model_camera_rd_prob_weights'))\n",
    "    # Prediction\n",
    "    \n",
    "    # Write prediction to file\n",
    "    val_samples=len(val_input_img_paths_rgb)\n",
    "\n",
    "    for i in range(val_samples):\n",
    "        val_preds = model.predict(val_input_gen[i])\n",
    "        img = cv2.imread(val_input_img_paths_rgb[i])\n",
    "        h=img.shape[0]\n",
    "        w=img.shape[1]\n",
    "        unpadded_argmax_map=zero_unpadding(val_preds[0], h, w, img_size)\n",
    "        #pdb.set_trace()\n",
    "        argmax_map = np.array(unpadded_argmax_map)\n",
    "        argmax_map=np.argmin(argmax_map,axis=-1)\n",
    "        #argmax_map=np.argmax(argmax_map,axis=-1)\n",
    "        fname= os.path.split(val_target_img_paths[i])[1]\n",
    "        pred_path= os.path.join(out_dir, fname )\n",
    "        cv2.imwrite(pred_path, argmax_map*127)   \n",
    "        \n",
    "if __name__==\"__main__\":\n",
    "    main()"
   ]
  }
 ],
 "metadata": {
  "kernelspec": {
   "display_name": "Python 3 (ipykernel)",
   "language": "python",
   "name": "python3"
  },
  "language_info": {
   "codemirror_mode": {
    "name": "ipython",
    "version": 3
   },
   "file_extension": ".py",
   "mimetype": "text/x-python",
   "name": "python",
   "nbconvert_exporter": "python",
   "pygments_lexer": "ipython3",
   "version": "3.7.16"
  }
 },
 "nbformat": 4,
 "nbformat_minor": 5
}
